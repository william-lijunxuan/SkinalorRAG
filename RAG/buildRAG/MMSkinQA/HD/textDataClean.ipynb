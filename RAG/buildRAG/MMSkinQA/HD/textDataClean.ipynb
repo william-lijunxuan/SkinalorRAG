{
 "cells": [
  {
   "metadata": {},
   "cell_type": "code",
   "source": [
    "import pandas as pd\n",
    "from sentence_transformers import SentenceTransformer\n",
    "from sklearn.ensemble import IsolationForest\n",
    "\n",
    "# Load the original CSV file\n",
    "csv_path = \"/home/william/dataset/skin/SkinCAP/skincap_v240623.csv\"\n",
    "df = pd.read_csv(csv_path)\n",
    "\n",
    "# Use only non-empty entries in the text column for analysis\n",
    "text_column = \"caption_zh_polish_en\"\n",
    "df_text = df[df[text_column].notna() & (df[text_column].str.strip() != \"\")].copy()\n",
    "texts = df_text[text_column].tolist()\n",
    "\n",
    "# Load the sentence embedding model and encode texts\n",
    "print(\"Encoding sentence embeddings...\")\n",
    "model = SentenceTransformer('all-MiniLM-L6-v2')\n",
    "embeddings = model.encode(texts, show_progress_bar=True)\n",
    "\n",
    "# Run semantic outlier detection using IsolationForest\n",
    "print(\"Detecting outliers with IsolationForest...\")\n",
    "clf = IsolationForest(contamination=0.1, random_state=42)\n",
    "predictions = clf.fit_predict(embeddings)  # 1 = inlier, -1 = outlier\n",
    "\n",
    "# Keep only the inlier (valid) entries\n",
    "df_text[\"valid\"] = predictions == 1\n",
    "valid_indices = df_text[df_text[\"valid\"]].index\n",
    "df_filtered = df.loc[valid_indices].copy().reset_index(drop=True)\n",
    "\n",
    "# Save the cleaned file with UTF-8 BOM to avoid encoding issues\n",
    "save_path = \"/home/william/dataset/skin/SkinCAP/skincap_v240623_cleaned.csv\"\n",
    "df_filtered.to_csv(save_path, index=False, encoding=\"utf-8-sig\")\n",
    "\n",
    "# Print filtering summary\n",
    "total = len(df)\n",
    "kept = len(df_filtered)\n",
    "removed = total - kept\n",
    "\n",
    "print(f\"Cleaning complete. Removed {removed} unclear samples, kept {kept} entries.\")\n",
    "print(f\"Cleaned file saved to: {save_path}\")\n"
   ],
   "id": "abddb5159658761f",
   "outputs": [],
   "execution_count": null
  }
 ],
 "metadata": {
  "kernelspec": {
   "display_name": "Python 3",
   "language": "python",
   "name": "python3"
  },
  "language_info": {
   "codemirror_mode": {
    "name": "ipython",
    "version": 2
   },
   "file_extension": ".py",
   "mimetype": "text/x-python",
   "name": "python",
   "nbconvert_exporter": "python",
   "pygments_lexer": "ipython2",
   "version": "2.7.6"
  }
 },
 "nbformat": 4,
 "nbformat_minor": 5
}
