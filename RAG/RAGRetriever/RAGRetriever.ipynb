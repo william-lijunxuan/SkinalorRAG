{
 "cells": [
  {
   "cell_type": "code",
   "id": "initial_id",
   "metadata": {
    "collapsed": true
   },
   "source": [
    ""
   ],
   "outputs": [],
   "execution_count": null
  },
  {
   "metadata": {},
   "cell_type": "code",
   "source": [
    "import os\n",
    "from PIL import Image\n",
    "import torch\n",
    "from transformers import  CLIPProcessor, CLIPModel\n",
    "import chromadb\n",
    "from datetime import datetime\n",
    "from IPython.display import display, HTML\n",
    "import base64\n",
    "\n",
    "\n",
    "from retrieverConfig import (\n",
    "    IMAGE_DIR,\n",
    "    CHROMA_PERSIST_PATH,\n",
    "    CHROMA_COLLECTION_NAME,\n",
    "    EMBEDDING_MODEL_NAME\n",
    ")\n",
    "\n",
    "class SkinCaseRetriever:\n",
    "    def __init__(self,CHROMA_PERSIST_PATH,CHROMA_COLLECTION_NAME,EMBEDDING_MODEL_NAME):\n",
    "        self.device = \"cuda\" if torch.cuda.is_available() else \"cpu\"\n",
    "        self.clip_model = CLIPModel.from_pretrained(EMBEDDING_MODEL_NAME).to(self.device)\n",
    "        self.clip_processor = CLIPProcessor.from_pretrained(EMBEDDING_MODEL_NAME)\n",
    "        client = chromadb.PersistentClient(path=CHROMA_PERSIST_PATH)\n",
    "        self.collection = client.get_collection(name=CHROMA_COLLECTION_NAME)\n",
    "    def is_description_relevant(self, text: str) -> bool:\n",
    "        if not text or not text.strip(): return False\n",
    "        keywords = [\"痒\",\"红\",\"疼\",\"痛\",\"斑\",\"疹\",\"痘\",\"水泡\",\"脱皮\",\"肿\",\"硬块\",\"皮肤\",\"胳膊\",\"腿\",\"脸\",\"背\",\"身上\",\"长了\",\"起了\",\"发现\",\"疙瘩\",\"变大\",\"扩散\",\"出血\",\"结痂\",\"流脓\",\"不舒服\",\"症状\",\"itch\",\"itchy\",\"red\",\"pain\",\"painful\",\"spot\",\"rash\",\"pimple\",\"blister\",\"peel\",\"swollen\",\"lump\",\"skin\",\"arm\",\"leg\",\"face\",\"back\",\"body\",\"found\",\"noticed\",\"symptom\",\"lesion\",\"bump\",\"grew\",\"spread\",\"bleed\",\"scab\",\"pus\",\"sore\"]\n",
    "        text_lower = text.lower()\n",
    "        for keyword in keywords:\n",
    "            if keyword in text_lower: return True\n",
    "        return False\n",
    "    def retrieve_similar_cases(self, user_image_path: str, user_text: str, k: int = 3):\n",
    "        # if not os.path.exists(user_image_path): raise FileNotFoundError(f\"User image not found: {user_image_path}\")\n",
    "        # user_image = Image.open(user_image_path).convert(\"RGB\")\n",
    "        image_inputs = self.clip_processor(images=user_image, return_tensors=\"pt\").to(self.device)\n",
    "        with torch.no_grad(): query_image_embedding = self.clip_model.get_image_features(**image_inputs).cpu().numpy()\n",
    "        if self.is_description_relevant(user_text):\n",
    "            text_inputs = self.clip_processor(text=user_text, return_tensors=\"pt\", padding=True, truncation=True).to(self.device)\n",
    "            with torch.no_grad(): query_text_embedding = self.clip_model.get_text_features(**text_inputs).cpu().numpy()\n",
    "            query_embedding = (query_image_embedding + query_text_embedding) / 2.0\n",
    "            filter_metadata = {\"type\": \"multimodal\"}\n",
    "            print(\"multimodal\")\n",
    "        else:\n",
    "            query_embedding = query_image_embedding\n",
    "            filter_metadata = {\"type\": \"image\"}\n",
    "            print(\"image\")\n",
    "        results = self.collection.query(query_embeddings=query_embedding.flatten().tolist(), n_results=k, where=filter_metadata)\n",
    "        return results"
   ],
   "id": "deefc4f92705f945",
   "outputs": [],
   "execution_count": null
  },
  {
   "metadata": {},
   "cell_type": "code",
   "source": [
    "def display_image_base64(encoded_string):\n",
    "    img_tag = f'<img src=\"data:image/jpeg;base64,{encoded_string}\" style=\"max-width: 250px; border: 1px solid #ddd; padding: 4px; border-radius: 4px;\"/>'\n",
    "    display(HTML(img_tag))"
   ],
   "id": "945be106767a8d28",
   "outputs": [],
   "execution_count": null
  },
  {
   "metadata": {},
   "cell_type": "code",
   "source": [
    "def display_results(results: dict, image_base_dir: str):\n",
    "    ids = results.get('ids', [[]])[0]\n",
    "    metadatas = results.get('metadatas', [[]])[0]\n",
    "    if not ids: print(\"No similar cases were found.\"); return\n",
    "    for i, meta in enumerate(metadatas):\n",
    "        print(\"-\" * 20)\n",
    "        print(f\"  Reference Case {i+1}:\")\n",
    "        print(f\"  Diagnosis: {meta.get('image_filename', 'N/A')}\")\n",
    "        print(f\"  Diagnosis: {meta.get('disease', 'N/A')}\")\n",
    "        print(f\"  Description: \\\"{meta.get('description', 'N/A')}\\\"\")\n",
    "        image_filename = meta.get('image_filename')\n",
    "        if image_filename:\n",
    "            full_image_path = os.path.join(image_base_dir, image_filename)\n",
    "            if os.path.exists(full_image_path):\n",
    "                with open(full_image_path, \"rb\") as image_file:\n",
    "                    encoded_string = base64.b64encode(image_file.read()).decode('utf-8')\n",
    "                display_image_base64(encoded_string)\n",
    "    print(\"-\" * 20)"
   ],
   "id": "a5af009f0e12dc25",
   "outputs": [],
   "execution_count": null
  },
  {
   "metadata": {},
   "cell_type": "code",
   "source": [
    "retriever = SkinCaseRetriever()\n",
    "\n",
    "user_image = Image.open(os.path.join(IMAGE_DIR,\"bk15_1380.png\")).convert(\"RGB\")\n",
    "retrieved_cases = retriever.retrieve_similar_cases(user_image,\"describe the photo\")\n",
    "\n",
    "display_results(retrieved_cases, IMAGE_DIR)\n"
   ],
   "id": "7ef2960f67b0f15c",
   "outputs": [],
   "execution_count": null
  }
 ],
 "metadata": {
  "kernelspec": {
   "display_name": "Python 3",
   "language": "python",
   "name": "python3"
  },
  "language_info": {
   "codemirror_mode": {
    "name": "ipython",
    "version": 2
   },
   "file_extension": ".py",
   "mimetype": "text/x-python",
   "name": "python",
   "nbconvert_exporter": "python",
   "pygments_lexer": "ipython2",
   "version": "2.7.6"
  }
 },
 "nbformat": 4,
 "nbformat_minor": 5
}
