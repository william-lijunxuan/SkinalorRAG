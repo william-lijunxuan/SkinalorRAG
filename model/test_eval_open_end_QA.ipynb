{
 "cells": [
  {
   "metadata": {},
   "cell_type": "markdown",
   "source": "# medgemma_4b_it ",
   "id": "1fa2f44ef37aab23"
  },
  {
   "metadata": {},
   "cell_type": "code",
   "source": "!bash shell/medgemma_4b_it/SkinCAP/baseline/Open_ended_QA/medgemma_4b_it.sh",
   "id": "2fea9c17a46e6e3",
   "outputs": [],
   "execution_count": null
  },
  {
   "metadata": {},
   "cell_type": "code",
   "source": "!bash shell/medgemma_4b_it/SkinCAP/SkinCAP-RAG/Open_ended_QA/medgemma_4b_it.sh",
   "id": "f8d64c515c18bbda",
   "outputs": [],
   "execution_count": null
  },
  {
   "metadata": {},
   "cell_type": "code",
   "source": "!bash shell/medgemma_4b_it/SkinCAP/MMSkinQA-RAG/Open_ended_QA/medgemma_4b_it.sh",
   "id": "1c44168875495753",
   "outputs": [],
   "execution_count": null
  },
  {
   "metadata": {},
   "cell_type": "code",
   "source": "!bash shell/medgemma_4b_it/SkinCAP/SKINgptAndMMSkinQA-RAG/Open_ended_QA/medgemma_4b_it.sh",
   "id": "ff1a683ff561d26f",
   "outputs": [],
   "execution_count": null
  },
  {
   "metadata": {},
   "cell_type": "markdown",
   "source": "## MedVLM_R1",
   "id": "63f940b07641d79f"
  },
  {
   "metadata": {},
   "cell_type": "code",
   "source": "!bash shell/MedVLM_R1/SkinCAP/baseline/Open_ended_QA/MedVLM_R1.sh",
   "id": "91f3dad62a0b59a3",
   "outputs": [],
   "execution_count": null
  },
  {
   "metadata": {},
   "cell_type": "code",
   "source": "!bash shell/MedVLM_R1/SkinCAP/SkinCAP-RAG/Open_ended_QA/MedVLM_R1.sh",
   "id": "919b8320e9f4b5fb",
   "outputs": [],
   "execution_count": null
  },
  {
   "metadata": {},
   "cell_type": "code",
   "source": "!bash shell/MedVLM_R1/SkinCAP/MMSkinQA-RAG/Open_ended_QA/MedVLM_R1.sh",
   "id": "fe69111d86ca7764",
   "outputs": [],
   "execution_count": null
  },
  {
   "metadata": {},
   "cell_type": "code",
   "source": "!bash shell/MedVLM_R1/SkinCAP/SKINgptAndMMSkinQA-RAG/Open_ended_QA/MedVLM_R1.sh",
   "id": "92ff6d1321868e12",
   "outputs": [],
   "execution_count": null
  }
 ],
 "metadata": {
  "kernelspec": {
   "display_name": "Python 3",
   "language": "python",
   "name": "python3"
  },
  "language_info": {
   "codemirror_mode": {
    "name": "ipython",
    "version": 2
   },
   "file_extension": ".py",
   "mimetype": "text/x-python",
   "name": "python",
   "nbconvert_exporter": "python",
   "pygments_lexer": "ipython2",
   "version": "2.7.6"
  }
 },
 "nbformat": 4,
 "nbformat_minor": 5
}
