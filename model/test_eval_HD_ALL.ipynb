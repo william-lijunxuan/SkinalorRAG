{
 "cells": [
  {
   "cell_type": "markdown",
   "id": "1fa2f44ef37aab23",
   "metadata": {},
   "source": [
    "# medgemma_4b_it "
   ]
  },
  {
   "cell_type": "markdown",
   "id": "85b29acfb75617e9",
   "metadata": {},
   "source": [
    "## SkinCAP-dataset  /question-Close_end_QA"
   ]
  },
  {
   "cell_type": "code",
   "id": "bbf8b2289efbab4",
   "metadata": {},
   "source": "!bash shell/medgemma_4b_it/SkinCAP/baseline/Close_end_QA/medgemma_4b_it_HD.sh",
   "outputs": [],
   "execution_count": null
  },
  {
   "cell_type": "code",
   "id": "fe53f000fe792d18",
   "metadata": {},
   "source": [
    "!bash shell/medgemma_4b_it/SkinCAP/SkinCAP-RAG/Close_end_QA/medgemma_4b_it_HD.sh"
   ],
   "outputs": [],
   "execution_count": null
  },
  {
   "cell_type": "code",
   "id": "a08f910057e219cd",
   "metadata": {},
   "source": [
    "!bash shell/medgemma_4b_it/SkinCAP/MMSkinQA-RAG/Close_end_QA/medgemma_4b_it_HD.sh"
   ],
   "outputs": [],
   "execution_count": null
  },
  {
   "cell_type": "code",
   "id": "b7b690dab87142f5",
   "metadata": {},
   "source": [
    "!bash shell/medgemma_4b_it/SkinCAP/SKINgptAndMMSkinQA-RAG/Close_end_QA/medgemma_4b_it_HD.sh"
   ],
   "outputs": [],
   "execution_count": null
  },
  {
   "cell_type": "markdown",
   "id": "e9df0ef814bc76f",
   "metadata": {},
   "source": [
    "# MedVLM_R1"
   ]
  },
  {
   "cell_type": "markdown",
   "id": "4a9f09e89d85bd0c",
   "metadata": {},
   "source": [
    "## SkinCAP dataset  /question-Close_end_QA"
   ]
  },
  {
   "cell_type": "code",
   "id": "32c36b32e6b01346",
   "metadata": {},
   "source": "!bash shell/MedVLM_R1/SkinCAP/baseline/Close_end_QA/MedVLM_R1_HD.sh",
   "outputs": [],
   "execution_count": null
  },
  {
   "cell_type": "code",
   "id": "f9ae5079152c316b",
   "metadata": {},
   "source": [
    "!bash shell/MedVLM_R1/SkinCAP/SkinCAP-RAG/Close_end_QA/MedVLM_R1_HD.sh"
   ],
   "outputs": [],
   "execution_count": null
  },
  {
   "cell_type": "code",
   "id": "e8991dd6f6275e7",
   "metadata": {},
   "source": [
    "!bash shell/MedVLM_R1/SkinCAP/MMSkinQA-RAG/Close_end_QA/MedVLM_R1_HD.sh"
   ],
   "outputs": [],
   "execution_count": null
  },
  {
   "cell_type": "code",
   "id": "53caeb9be8fb5435",
   "metadata": {},
   "source": [
    "!bash shell/MedVLM_R1/SkinCAP/SKINgptAndMMSkinQA-RAG/Close_end_QA/MedVLM_R1_HD.sh"
   ],
   "outputs": [],
   "execution_count": null
  },
  {
   "cell_type": "markdown",
   "id": "e05cf217983e3d21",
   "metadata": {},
   "source": [
    "# medgemma_4b_it"
   ]
  },
  {
   "cell_type": "markdown",
   "id": "c29a195caa9612f3",
   "metadata": {},
   "source": [
    "## SKINgpt dataset   /question-Close_end_QA"
   ]
  },
  {
   "cell_type": "code",
   "id": "c32a2ec05097c15a",
   "metadata": {},
   "source": "!bash shell/medgemma_4b_it/SKINgpt/baseline/Close_end_QA/medgemma_4b_it_HD.sh",
   "outputs": [],
   "execution_count": null
  },
  {
   "cell_type": "code",
   "id": "ca4542120f8f0f5c",
   "metadata": {},
   "source": [
    "!bash shell/medgemma_4b_it/SKINgpt/SkinCAP-RAG/Close_end_QA/medgemma_4b_it_HD.sh"
   ],
   "outputs": [],
   "execution_count": null
  },
  {
   "cell_type": "code",
   "id": "e2f3873c2fc4990a",
   "metadata": {},
   "source": [
    "!bash shell/medgemma_4b_it/SKINgpt/MMSkinQA-RAG/Close_end_QA/medgemma_4b_it_HD.sh"
   ],
   "outputs": [],
   "execution_count": null
  },
  {
   "cell_type": "code",
   "id": "62feda42225af72d",
   "metadata": {},
   "source": [
    "!bash shell/medgemma_4b_it/SKINgpt/SkinCAPAndMMSkinQA-RAG/Close_end_QA/medgemma_4b_it_HD.sh"
   ],
   "outputs": [],
   "execution_count": null
  },
  {
   "cell_type": "markdown",
   "id": "82fdaa6d09b30efe",
   "metadata": {},
   "source": [
    "# MedVLM_R1"
   ]
  },
  {
   "cell_type": "markdown",
   "id": "c2a3933ae2523451",
   "metadata": {},
   "source": [
    "## SKINgpt dataset   /question-Close_end_QA"
   ]
  },
  {
   "cell_type": "code",
   "id": "17f0af4b5617ed97",
   "metadata": {},
   "source": "!bash shell/MedVLM_R1/SKINgpt/baseline/Close_end_QA/MedVLM_R1_HD.sh",
   "outputs": [],
   "execution_count": null
  },
  {
   "cell_type": "code",
   "id": "32e382539e095fab",
   "metadata": {},
   "source": [
    "!bash shell/MedVLM_R1/SKINgpt/SkinCAP-RAG/Close_end_QA/MedVLM_R1_HD.sh"
   ],
   "outputs": [],
   "execution_count": null
  },
  {
   "cell_type": "code",
   "id": "b7dc4bde6057165d",
   "metadata": {},
   "source": [
    "!bash shell/MedVLM_R1/SKINgpt/MMSkinQA-RAG/Close_end_QA/MedVLM_R1_HD.sh"
   ],
   "outputs": [],
   "execution_count": null
  },
  {
   "cell_type": "code",
   "id": "5d1aa3c0b6c24eb6",
   "metadata": {},
   "source": [
    "!bash shell/MedVLM_R1/SKINgpt/SkinCAPAndMMSkinQA-RAG/Close_end_QA/MedVLM_R1_HD.sh"
   ],
   "outputs": [],
   "execution_count": null
  },
  {
   "cell_type": "markdown",
   "id": "a597010a",
   "metadata": {},
   "source": [
    "# medgemma_4b_it "
   ]
  },
  {
   "cell_type": "markdown",
   "id": "720ff85e",
   "metadata": {},
   "source": [
    "## SkinCAP-dataset  /question-multiple_choice_QA"
   ]
  },
  {
   "cell_type": "code",
   "id": "2cdbc300",
   "metadata": {},
   "source": "!bash shell/medgemma_4b_it/SkinCAP/baseline/Multiple_choice_QA/medgemma_4b_it_HD.sh",
   "outputs": [],
   "execution_count": null
  },
  {
   "cell_type": "code",
   "id": "4532e0e8",
   "metadata": {},
   "source": [
    "!bash shell/medgemma_4b_it/SkinCAP/SkinCAP-RAG/Multiple_choice_QA/medgemma_4b_it_HD.sh"
   ],
   "outputs": [],
   "execution_count": null
  },
  {
   "cell_type": "code",
   "id": "faf9fd9f",
   "metadata": {},
   "source": [
    "!bash shell/medgemma_4b_it/SkinCAP/MMSkinQA-RAG/Multiple_choice_QA/medgemma_4b_it_HD.sh"
   ],
   "outputs": [],
   "execution_count": null
  },
  {
   "cell_type": "code",
   "id": "9710ce0b",
   "metadata": {},
   "source": [
    "!bash shell/medgemma_4b_it/SkinCAP/SKINgptAndMMSkinQA-RAG/Multiple_choice_QA/medgemma_4b_it_HD.sh"
   ],
   "outputs": [],
   "execution_count": null
  },
  {
   "cell_type": "markdown",
   "id": "14a673bb",
   "metadata": {},
   "source": [
    "# MedVLM_R1"
   ]
  },
  {
   "cell_type": "markdown",
   "id": "2b03577b",
   "metadata": {},
   "source": [
    "## SkinCAP dataset  /question-multiple_choice_QA"
   ]
  },
  {
   "cell_type": "code",
   "id": "65dbde1c",
   "metadata": {},
   "source": "!bash shell/MedVLM_R1/SkinCAP/baseline/Multiple_choice_QA/MedVLM_R1_HD.sh",
   "outputs": [],
   "execution_count": null
  },
  {
   "cell_type": "code",
   "id": "37d3c713",
   "metadata": {},
   "source": [
    "!bash shell/MedVLM_R1/SkinCAP/SkinCAP-RAG/Multiple_choice_QA/MedVLM_R1_HD.sh"
   ],
   "outputs": [],
   "execution_count": null
  },
  {
   "cell_type": "code",
   "id": "dc7ad9c6",
   "metadata": {},
   "source": [
    "!bash shell/MedVLM_R1/SkinCAP/MMSkinQA-RAG/Multiple_choice_QA/MedVLM_R1_HD.sh"
   ],
   "outputs": [],
   "execution_count": null
  },
  {
   "cell_type": "code",
   "id": "bd4668fa",
   "metadata": {},
   "source": [
    "!bash shell/MedVLM_R1/SkinCAP/SKINgptAndMMSkinQA-RAG/Multiple_choice_QA/MedVLM_R1_HD.sh"
   ],
   "outputs": [],
   "execution_count": null
  },
  {
   "cell_type": "markdown",
   "id": "9550cfa9",
   "metadata": {},
   "source": [
    "# medgemma_4b_it"
   ]
  },
  {
   "cell_type": "markdown",
   "id": "a3634e97",
   "metadata": {},
   "source": [
    "## SKINgpt dataset   /question-multiple_choice_QA"
   ]
  },
  {
   "cell_type": "code",
   "id": "d2f1a6c1",
   "metadata": {},
   "source": "!bash shell/medgemma_4b_it/SKINgpt/baseline/Multiple_choice_QA/medgemma_4b_it_HD.sh",
   "outputs": [],
   "execution_count": null
  },
  {
   "cell_type": "code",
   "id": "1900d0d2",
   "metadata": {},
   "source": [
    "!bash shell/medgemma_4b_it/SKINgpt/SkinCAP-RAG/Multiple_choice_QA/medgemma_4b_it_HD.sh"
   ],
   "outputs": [],
   "execution_count": null
  },
  {
   "cell_type": "code",
   "id": "6117534e",
   "metadata": {},
   "source": [
    "!bash shell/medgemma_4b_it/SKINgpt/MMSkinQA-RAG/Multiple_choice_QA/medgemma_4b_it_HD.sh"
   ],
   "outputs": [],
   "execution_count": null
  },
  {
   "cell_type": "code",
   "id": "c15d7bbc",
   "metadata": {},
   "source": [
    "!bash shell/medgemma_4b_it/SKINgpt/SkinCAPAndMMSkinQA-RAG/Multiple_choice_QA/medgemma_4b_it_HD.sh"
   ],
   "outputs": [],
   "execution_count": null
  },
  {
   "cell_type": "markdown",
   "id": "3845998a",
   "metadata": {},
   "source": [
    "# MedVLM_R1"
   ]
  },
  {
   "cell_type": "markdown",
   "id": "6ad42e0a",
   "metadata": {},
   "source": [
    "## SKINgpt dataset   /question-multiple_choice_QA"
   ]
  },
  {
   "cell_type": "code",
   "id": "bf91a21d",
   "metadata": {},
   "source": "!bash shell/MedVLM_R1/SKINgpt/baseline/Multiple_choice_QA/MedVLM_R1_HD.sh",
   "outputs": [],
   "execution_count": null
  },
  {
   "cell_type": "code",
   "id": "5706f366",
   "metadata": {},
   "source": [
    "!bash shell/MedVLM_R1/SKINgpt/SkinCAP-RAG/Multiple_choice_QA/MedVLM_R1_HD.sh"
   ],
   "outputs": [],
   "execution_count": null
  },
  {
   "cell_type": "code",
   "id": "b3309ad1",
   "metadata": {},
   "source": [
    "!bash shell/MedVLM_R1/SKINgpt/MMSkinQA-RAG/Multiple_choice_QA/MedVLM_R1_HD.sh"
   ],
   "outputs": [],
   "execution_count": null
  },
  {
   "cell_type": "code",
   "id": "3c028cd8",
   "metadata": {},
   "source": [
    "!bash shell/MedVLM_R1/SKINgpt/SkinCAPAndMMSkinQA-RAG/Multiple_choice_QA/MedVLM_R1_HD.sh"
   ],
   "outputs": [],
   "execution_count": null
  },
  {
   "cell_type": "markdown",
   "id": "d41defc5",
   "metadata": {},
   "source": [
    "# medgemma_4b_it "
   ]
  },
  {
   "cell_type": "code",
   "id": "e5fcb547",
   "metadata": {},
   "source": "!bash shell/medgemma_4b_it/SkinCAP/baseline/Open_ended_QA/medgemma_4b_it_HD.sh",
   "outputs": [],
   "execution_count": null
  },
  {
   "cell_type": "code",
   "id": "213005dc",
   "metadata": {},
   "source": [
    "!bash shell/medgemma_4b_it/SkinCAP/SkinCAP-RAG/Open_ended_QA/medgemma_4b_it_HD.sh"
   ],
   "outputs": [],
   "execution_count": null
  },
  {
   "cell_type": "code",
   "id": "de7cfe25",
   "metadata": {},
   "source": [
    "!bash shell/medgemma_4b_it/SkinCAP/MMSkinQA-RAG/Open_ended_QA/medgemma_4b_it_HD.sh"
   ],
   "outputs": [],
   "execution_count": null
  },
  {
   "cell_type": "code",
   "id": "7f3cb623",
   "metadata": {},
   "source": [
    "!bash shell/medgemma_4b_it/SkinCAP/SKINgptAndMMSkinQA-RAG/Open_ended_QA/medgemma_4b_it_HD.sh"
   ],
   "outputs": [],
   "execution_count": null
  },
  {
   "cell_type": "markdown",
   "id": "03715ac2",
   "metadata": {},
   "source": [
    "## MedVLM_R1"
   ]
  },
  {
   "cell_type": "code",
   "id": "364b1690",
   "metadata": {},
   "source": "!bash shell/MedVLM_R1/SkinCAP/baseline/Open_ended_QA/MedVLM_R1_HD.sh",
   "outputs": [],
   "execution_count": null
  },
  {
   "cell_type": "code",
   "id": "b7593d88",
   "metadata": {},
   "source": [
    "!bash shell/MedVLM_R1/SkinCAP/SkinCAP-RAG/Open_ended_QA/MedVLM_R1_HD.sh"
   ],
   "outputs": [],
   "execution_count": null
  },
  {
   "cell_type": "code",
   "id": "82141456",
   "metadata": {},
   "source": [
    "!bash shell/MedVLM_R1/SkinCAP/MMSkinQA-RAG/Open_ended_QA/MedVLM_R1_HD.sh"
   ],
   "outputs": [],
   "execution_count": null
  },
  {
   "cell_type": "code",
   "id": "c74becc7",
   "metadata": {},
   "source": [
    "!bash shell/MedVLM_R1/SkinCAP/SKINgptAndMMSkinQA-RAG/Open_ended_QA/MedVLM_R1_HD.sh"
   ],
   "outputs": [],
   "execution_count": null
  }
 ],
 "metadata": {
  "kernelspec": {
   "display_name": "Python 3",
   "language": "python",
   "name": "python3"
  },
  "language_info": {
   "codemirror_mode": {
    "name": "ipython",
    "version": 2
   },
   "file_extension": ".py",
   "mimetype": "text/x-python",
   "name": "python",
   "nbconvert_exporter": "python",
   "pygments_lexer": "ipython2",
   "version": "2.7.6"
  }
 },
 "nbformat": 4,
 "nbformat_minor": 5
}
