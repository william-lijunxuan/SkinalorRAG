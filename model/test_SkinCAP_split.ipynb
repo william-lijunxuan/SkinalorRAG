{
 "cells": [
  {
   "metadata": {
    "collapsed": true
   },
   "cell_type": "code",
   "source": "!bash shell/medgemma_4b_it/SkinCAP/SkinCAP_train/Close_end_QA/medgemma_4b_it.sh",
   "id": "initial_id",
   "outputs": [],
   "execution_count": null
  },
  {
   "metadata": {},
   "cell_type": "code",
   "source": "!bash shell/medgemma_4b_it/SkinCAP/SkinCAP_train/Multiple_choice_QA/medgemma_4b_it.sh",
   "id": "88b4cbc4103f89ae",
   "outputs": [],
   "execution_count": null
  },
  {
   "metadata": {},
   "cell_type": "code",
   "source": "!bash shell/medgemma_4b_it/SkinCAP/SkinCAP_train/Open_ended_QA/medgemma_4b_it.sh",
   "id": "af88fa81b407c13e",
   "outputs": [],
   "execution_count": null
  },
  {
   "metadata": {},
   "cell_type": "code",
   "source": "!bash shell/medgemma_4b_it/SkinCAP/SkinCAP_train_test/Close_end_QA/medgemma_4b_it.sh",
   "id": "b85ba7f3191c3509",
   "outputs": [],
   "execution_count": null
  },
  {
   "metadata": {},
   "cell_type": "code",
   "source": "!bash shell/medgemma_4b_it/SkinCAP/SkinCAP_train_test/Multiple_choice_QA/medgemma_4b_it.sh",
   "id": "56c2fa69635d5a8c",
   "outputs": [],
   "execution_count": null
  },
  {
   "metadata": {},
   "cell_type": "markdown",
   "source": "# baseline",
   "id": "e8827b0b36aafd80"
  },
  {
   "metadata": {},
   "cell_type": "code",
   "source": "!bash shell/medgemma_4b_it/SkinCAP/SkinCAP_train_test/Open_ended_QA/medgemma_4b_it.sh",
   "id": "919592b63c230bbb",
   "outputs": [],
   "execution_count": null
  },
  {
   "metadata": {},
   "cell_type": "markdown",
   "source": "# SkinCAP_train_test  Open_ended_QA",
   "id": "fa7189b3e05ccc3d"
  },
  {
   "metadata": {},
   "cell_type": "code",
   "source": "!bash shell/medgemma_4b_it/SkinCAP/SkinCAP_train_test/Open_ended_QA/medgemma_4b_it.sh",
   "id": "49973be5c0915238",
   "outputs": [],
   "execution_count": null
  },
  {
   "metadata": {},
   "cell_type": "code",
   "source": "!bash shell/medgemma_4b_it/SkinCAP/SkinCAP_train/Close_end_QA/medgemma_4b_it.sh",
   "id": "34db82156fc9a92a",
   "outputs": [],
   "execution_count": null
  },
  {
   "metadata": {},
   "cell_type": "code",
   "source": "!bash shell/medgemma_4b_it/SkinCAP/SkinCAP_train/Multiple_choice_QA/medgemma_4b_it.sh",
   "id": "97b132673f05c62d",
   "outputs": [],
   "execution_count": null
  },
  {
   "metadata": {},
   "cell_type": "code",
   "source": "!bash shell/medgemma_4b_it/SkinCAP/SkinCAP_train_test/Close_end_QA/medgemma_4b_it.sh",
   "id": "897fa978440ef889",
   "outputs": [],
   "execution_count": null
  },
  {
   "metadata": {},
   "cell_type": "code",
   "source": "!bash shell/medgemma_4b_it/SkinCAP/SkinCAP_train_test/Multiple_choice_QA/medgemma_4b_it.sh",
   "id": "baa2575aa9a1ffa7",
   "outputs": [],
   "execution_count": null
  },
  {
   "metadata": {},
   "cell_type": "code",
   "source": "!bash shell/medgemma_4b_it/SkinCAP/SkinCAP_train/Open_ended_QA/medgemma_4b_it.sh",
   "id": "16c9569ba72f077d",
   "outputs": [],
   "execution_count": null
  },
  {
   "metadata": {},
   "cell_type": "code",
   "source": "!bash shell/medgemma_4b_it/SkinCAP/SkinCAP_train_test/Open_ended_QA/medgemma_4b_it.sh",
   "id": "f5ba8cabf86f74a3",
   "outputs": [],
   "execution_count": null
  },
  {
   "metadata": {},
   "cell_type": "markdown",
   "source": "# skincap_HD_clipiqa",
   "id": "59e4a8a01a8980f9"
  },
  {
   "metadata": {},
   "cell_type": "code",
   "source": "!bash shell/medgemma_4b_it/SkinCAP/SkinCAP_train_test/Close_end_QA/medgemma_4b_it_HD.sh",
   "id": "f68cabb078103adf",
   "outputs": [],
   "execution_count": null
  },
  {
   "metadata": {},
   "cell_type": "code",
   "source": "!bash shell/medgemma_4b_it/SkinCAP/SkinCAP_train_test/Multiple_choice_QA/medgemma_4b_it_HD.sh",
   "id": "8a7c71d734c946f7",
   "outputs": [],
   "execution_count": null
  },
  {
   "metadata": {},
   "cell_type": "code",
   "source": "!bash shell/medgemma_4b_it/SkinCAP/SkinCAP_train_test/Open_ended_QA/medgemma_4b_it_HD.sh",
   "id": "5aa6c1f24c9c8bd6",
   "outputs": [],
   "execution_count": null
  },
  {
   "metadata": {},
   "cell_type": "markdown",
   "source": "# train HD",
   "id": "77698d034b09795a"
  },
  {
   "metadata": {},
   "cell_type": "code",
   "source": "!bash shell/medgemma_4b_it/SkinCAP/SkinCAP_train_test/Close_end_QA/medgemma_4b_it_train_HD.sh",
   "id": "647e3e60cd64356b",
   "outputs": [],
   "execution_count": null
  },
  {
   "metadata": {},
   "cell_type": "code",
   "source": "!bash shell/medgemma_4b_it/SkinCAP/SkinCAP_train_test/Multiple_choice_QA/medgemma_4b_it_train_HD.sh",
   "id": "2bf2a8b3861c3126",
   "outputs": [],
   "execution_count": null
  },
  {
   "metadata": {},
   "cell_type": "code",
   "source": "!bash shell/medgemma_4b_it/SkinCAP/SkinCAP_train_test/Open_ended_QA/medgemma_4b_it_train_HD.sh",
   "id": "99ba02344cb1372b",
   "outputs": [],
   "execution_count": null
  },
  {
   "metadata": {},
   "cell_type": "code",
   "source": "!bash shell/medgemma_4b_it/SkinCAP/SkinCAP_train_test/Open_ended_QA/medgemma_4b_it_HD.sh",
   "id": "138c89aa10bbaa4f",
   "outputs": [],
   "execution_count": null
  },
  {
   "metadata": {},
   "cell_type": "markdown",
   "source": "# Multiple_choice_QA",
   "id": "9ed10600bd0436e5"
  },
  {
   "metadata": {},
   "cell_type": "code",
   "source": "!bash shell/medgemma_4b_it/SkinCAP/SkinCAP_train/Multiple_choice_QA/medgemma_4b_it_train_HD_459.sh",
   "id": "3f0765a9903a3bfa",
   "outputs": [],
   "execution_count": null
  },
  {
   "metadata": {},
   "cell_type": "code",
   "source": "!bash shell/medgemma_4b_it/SkinCAP/SkinCAP_train/Multiple_choice_QA/medgemma_4b_it_train_HD_935.sh",
   "id": "b97d1dbe1785d81c",
   "outputs": [],
   "execution_count": null
  },
  {
   "metadata": {},
   "cell_type": "code",
   "source": "!bash shell/medgemma_4b_it/SkinCAP/SkinCAP_train/Multiple_choice_QA/medgemma_4b_it_train_HD_1417.sh",
   "id": "d01886ecf3d11efa",
   "outputs": [],
   "execution_count": null
  },
  {
   "metadata": {},
   "cell_type": "code",
   "source": "!bash shell/medgemma_4b_it/SkinCAP/SkinCAP_train_test/Multiple_choice_QA/medgemma_4b_it_HD_955.sh",
   "id": "6f71012594f07e3b",
   "outputs": [],
   "execution_count": null
  },
  {
   "metadata": {},
   "cell_type": "code",
   "source": "!bash shell/medgemma_4b_it/SkinCAP/SkinCAP_train_test/Multiple_choice_QA/medgemma_4b_it_HD_2042.sh",
   "id": "9c362a28608502ed",
   "outputs": [],
   "execution_count": null
  },
  {
   "metadata": {},
   "cell_type": "code",
   "source": "!bash shell/medgemma_4b_it/SkinCAP/SkinCAP_train_test/Multiple_choice_QA/medgemma_4b_it_HD_2936.sh",
   "id": "6007225602f27c9f",
   "outputs": [],
   "execution_count": null
  },
  {
   "metadata": {},
   "cell_type": "markdown",
   "source": "# Close_end_QA",
   "id": "e49524103d5ce2d1"
  },
  {
   "metadata": {},
   "cell_type": "code",
   "source": "!bash shell/medgemma_4b_it/SkinCAP/SkinCAP_train/Close_end_QA/medgemma_4b_it_train_HD_459.sh",
   "id": "c50641e010bc979b",
   "outputs": [],
   "execution_count": null
  },
  {
   "metadata": {},
   "cell_type": "code",
   "source": "!bash shell/medgemma_4b_it/SkinCAP/SkinCAP_train/Close_end_QA/medgemma_4b_it_train_HD_935.sh",
   "id": "828eb89dade1ae9a",
   "outputs": [],
   "execution_count": null
  },
  {
   "metadata": {},
   "cell_type": "code",
   "source": "!bash shell/medgemma_4b_it/SkinCAP/SkinCAP_train/Close_end_QA/medgemma_4b_it_HD_1417.sh",
   "id": "e3dca6acd823fb27",
   "outputs": [],
   "execution_count": null
  },
  {
   "metadata": {},
   "cell_type": "code",
   "source": "!bash shell/medgemma_4b_it/SkinCAP/SkinCAP_train_test/Close_end_QA/medgemma_4b_it_HD_955.sh",
   "id": "80cbf21229aeceb1",
   "outputs": [],
   "execution_count": null
  },
  {
   "metadata": {},
   "cell_type": "code",
   "source": "!bash shell/medgemma_4b_it/SkinCAP/SkinCAP_train_test/Close_end_QA/medgemma_4b_it_HD_2042.sh",
   "id": "b9bd3e47cb8962c5",
   "outputs": [],
   "execution_count": null
  },
  {
   "metadata": {},
   "cell_type": "code",
   "source": "!bash shell/medgemma_4b_it/SkinCAP/SkinCAP_train_test/Close_end_QA/medgemma_4b_it_HD_2936.sh",
   "id": "56f15f29b359affa",
   "outputs": [],
   "execution_count": null
  },
  {
   "metadata": {},
   "cell_type": "markdown",
   "source": "# Open_ended_QA",
   "id": "1f32bc40aa1828ee"
  },
  {
   "metadata": {},
   "cell_type": "code",
   "source": "!bash shell/medgemma_4b_it/SkinCAP/SkinCAP_train/Open_ended_QA/medgemma_4b_it_train_HD_459.sh",
   "id": "502ddd81a98d1a21",
   "outputs": [],
   "execution_count": null
  },
  {
   "metadata": {},
   "cell_type": "code",
   "source": "!bash shell/medgemma_4b_it/SkinCAP/SkinCAP_train/Open_ended_QA/medgemma_4b_it_train_HD_935.sh",
   "id": "91295bc699f95065",
   "outputs": [],
   "execution_count": null
  },
  {
   "metadata": {},
   "cell_type": "code",
   "source": "!bash shell/medgemma_4b_it/SkinCAP/SkinCAP_train/Open_ended_QA/medgemma_4b_it_train_HD_1417.sh",
   "id": "b2e8fe0186193879",
   "outputs": [],
   "execution_count": null
  },
  {
   "metadata": {},
   "cell_type": "code",
   "source": "!bash shell/medgemma_4b_it/SkinCAP/SkinCAP_train_test/Open_ended_QA/medgemma_4b_it_train_HD_955.sh",
   "id": "b2a970263198f8bd",
   "outputs": [],
   "execution_count": null
  },
  {
   "metadata": {},
   "cell_type": "code",
   "source": "!bash shell/medgemma_4b_it/SkinCAP/SkinCAP_train_test/Open_ended_QA/medgemma_4b_it_train_HD_2042.sh",
   "id": "cf2c18645cc34510",
   "outputs": [],
   "execution_count": null
  },
  {
   "metadata": {},
   "cell_type": "code",
   "source": "!bash shell/medgemma_4b_it/SkinCAP/SkinCAP_train_test/Open_ended_QA/medgemma_4b_it_train_HD_2936.sh",
   "id": "1f74b69b92bb6877",
   "outputs": [],
   "execution_count": null
  },
  {
   "metadata": {},
   "cell_type": "markdown",
   "source": "# description",
   "id": "49f11b1ca5ced080"
  },
  {
   "metadata": {},
   "cell_type": "code",
   "source": "!bash shell/medgemma_4b_it/SkinCAP/SkinCAP_train_test/Close_end_QA/medgemma_4b_it_description.sh",
   "id": "83357f723a0e3d37",
   "outputs": [],
   "execution_count": null
  },
  {
   "metadata": {},
   "cell_type": "code",
   "source": "!bash shell/medgemma_4b_it/SkinCAP/SkinCAP_train/Close_end_QA/medgemma_4b_it_description.sh",
   "id": "1638b53bb60a49e",
   "outputs": [],
   "execution_count": null
  },
  {
   "metadata": {},
   "cell_type": "code",
   "source": "!bash shell/medgemma_4b_it/SkinCAP/SkinCAP_train/Close_end_QA/medgemma_4b_it_description.sh",
   "id": "ff1e5c4f55d35316",
   "outputs": [],
   "execution_count": null
  }
 ],
 "metadata": {
  "kernelspec": {
   "display_name": "Python 3",
   "language": "python",
   "name": "python3"
  },
  "language_info": {
   "codemirror_mode": {
    "name": "ipython",
    "version": 2
   },
   "file_extension": ".py",
   "mimetype": "text/x-python",
   "name": "python",
   "nbconvert_exporter": "python",
   "pygments_lexer": "ipython2",
   "version": "2.7.6"
  }
 },
 "nbformat": 4,
 "nbformat_minor": 5
}
