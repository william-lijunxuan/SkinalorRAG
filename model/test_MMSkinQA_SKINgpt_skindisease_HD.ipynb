{
 "cells": [
  {
   "metadata": {},
   "cell_type": "markdown",
   "source": "# medgemma_4b_it",
   "id": "eeab062e099cefaa"
  },
  {
   "metadata": {},
   "cell_type": "code",
   "source": "!bash shell/medgemma_4b_it/SkinCAP/MMSkinQA_SKINgpt_skindisease/Close_end_QA/medgemma_4b_it_HD.sh",
   "id": "763fbc1886c97057",
   "outputs": [],
   "execution_count": null
  },
  {
   "cell_type": "code",
   "id": "initial_id",
   "metadata": {
    "collapsed": true
   },
   "source": "!bash shell/medgemma_4b_it/SkinCAP/MMSkinQA_SKINgpt_skindisease/Multiple_choice_QA/medgemma_4b_it_HD.sh",
   "outputs": [],
   "execution_count": null
  },
  {
   "metadata": {},
   "cell_type": "code",
   "source": "!bash shell/medgemma_4b_it/SKINgpt/MMSkinQA_SKINgpt_skindisease/Close_end_QA/medgemma_4b_it_HD.sh",
   "id": "d063260639e62e07",
   "outputs": [],
   "execution_count": null
  },
  {
   "metadata": {},
   "cell_type": "code",
   "source": "!bash shell/medgemma_4b_it/SKINgpt/MMSkinQA_SKINgpt_skindisease/Multiple_choice_QA/medgemma_4b_it_HD.sh",
   "id": "17917e1ed9818a14",
   "outputs": [],
   "execution_count": null
  },
  {
   "metadata": {},
   "cell_type": "markdown",
   "source": "# MedVLM_R1",
   "id": "7d3f30c5aec17e6"
  },
  {
   "metadata": {},
   "cell_type": "code",
   "source": "!bash shell/MedVLM_R1/SkinCAP/MMSkinQA_SKINgpt_skindisease/Close_end_QA/MedVLM_R1_HD.sh",
   "id": "6462c89849c81b49",
   "outputs": [],
   "execution_count": null
  },
  {
   "metadata": {},
   "cell_type": "code",
   "source": "!bash shell/MedVLM_R1/SkinCAP/MMSkinQA_SKINgpt_skindisease/Multiple_choice_QA/MedVLM_R1_HD.sh",
   "id": "10c0259054d9ab53",
   "outputs": [],
   "execution_count": null
  },
  {
   "metadata": {},
   "cell_type": "code",
   "source": "!bash shell/MedVLM_R1/SKINgpt/MMSkinQA_SKINgpt_skindisease/Close_end_QA/MedVLM_R1_HD.sh",
   "id": "1c53d5137ec56031",
   "outputs": [],
   "execution_count": null
  },
  {
   "metadata": {},
   "cell_type": "code",
   "source": "!bash shell/MedVLM_R1/SKINgpt/MMSkinQA_SKINgpt_skindisease/Multiple_choice_QA/MedVLM_R1_HD.sh",
   "id": "c03118fa5ee62d91",
   "outputs": [],
   "execution_count": null
  },
  {
   "metadata": {},
   "cell_type": "markdown",
   "source": "# Open_ended_QA",
   "id": "7db5cd601dbbcd8a"
  },
  {
   "metadata": {},
   "cell_type": "code",
   "source": "!bash shell/medgemma_4b_it/SkinCAP/MMSkinQA_SKINgpt_skindisease/Open_ended_QA/medgemma_4b_it_HD.sh",
   "id": "268979759822d8fe",
   "outputs": [],
   "execution_count": null
  },
  {
   "metadata": {},
   "cell_type": "code",
   "source": "!bash shell/MedVLM_R1/SkinCAP/MMSkinQA_SKINgpt_skindisease/Open_ended_QA/MedVLM_R1_HD.sh",
   "id": "7efdeebf816e4c1f",
   "outputs": [],
   "execution_count": null
  }
 ],
 "metadata": {
  "kernelspec": {
   "display_name": "Python 3",
   "language": "python",
   "name": "python3"
  },
  "language_info": {
   "codemirror_mode": {
    "name": "ipython",
    "version": 2
   },
   "file_extension": ".py",
   "mimetype": "text/x-python",
   "name": "python",
   "nbconvert_exporter": "python",
   "pygments_lexer": "ipython2",
   "version": "2.7.6"
  }
 },
 "nbformat": 4,
 "nbformat_minor": 5
}
