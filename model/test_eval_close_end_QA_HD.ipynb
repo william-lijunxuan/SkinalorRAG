{
 "cells": [
  {
   "metadata": {},
   "cell_type": "markdown",
   "source": "# medgemma_4b_it ",
   "id": "1fa2f44ef37aab23"
  },
  {
   "metadata": {},
   "cell_type": "markdown",
   "source": "## SkinCAP-dataset  /question-Close_end_QA",
   "id": "85b29acfb75617e9"
  },
  {
   "metadata": {},
   "cell_type": "code",
   "source": "!bash shell/medgemma_4b_it/SkinCAP/baseline/Close_end_QA/medgemma_4b_it_HD.sh",
   "id": "bbf8b2289efbab4",
   "outputs": [],
   "execution_count": null
  },
  {
   "metadata": {},
   "cell_type": "code",
   "source": "!bash shell/medgemma_4b_it/SkinCAP/SkinCAP-RAG/Close_end_QA/medgemma_4b_it_HD.sh",
   "id": "fe53f000fe792d18",
   "outputs": [],
   "execution_count": null
  },
  {
   "metadata": {},
   "cell_type": "code",
   "source": "!bash shell/medgemma_4b_it/SkinCAP/MMSkinQA-RAG/Close_end_QA/medgemma_4b_it_HD.sh",
   "id": "a08f910057e219cd",
   "outputs": [],
   "execution_count": null
  },
  {
   "metadata": {},
   "cell_type": "code",
   "source": "!bash shell/medgemma_4b_it/SkinCAP/SKINgptAndMMSkinQA-RAG/Close_end_QA/medgemma_4b_it_HD.sh",
   "id": "b7b690dab87142f5",
   "outputs": [],
   "execution_count": null
  },
  {
   "metadata": {},
   "cell_type": "markdown",
   "source": "# MedVLM_R1",
   "id": "e9df0ef814bc76f"
  },
  {
   "metadata": {},
   "cell_type": "markdown",
   "source": "## SkinCAP dataset  /question-Close_end_QA",
   "id": "4a9f09e89d85bd0c"
  },
  {
   "metadata": {},
   "cell_type": "code",
   "source": "!bash shell/MedVLM_R1/SkinCAP/baseline/Close_end_QA/MedVLM_R1_HD.sh",
   "id": "32c36b32e6b01346",
   "outputs": [],
   "execution_count": null
  },
  {
   "metadata": {},
   "cell_type": "code",
   "source": "!bash shell/MedVLM_R1/SkinCAP/SkinCAP-RAG/Close_end_QA/MedVLM_R1_HD.sh",
   "id": "f9ae5079152c316b",
   "outputs": [],
   "execution_count": null
  },
  {
   "metadata": {},
   "cell_type": "code",
   "source": "!bash shell/MedVLM_R1/SkinCAP/MMSkinQA-RAG/Close_end_QA/MedVLM_R1_HD.sh",
   "id": "e8991dd6f6275e7",
   "outputs": [],
   "execution_count": null
  },
  {
   "metadata": {},
   "cell_type": "code",
   "source": "!bash shell/MedVLM_R1/SkinCAP/SKINgptAndMMSkinQA-RAG/Close_end_QA/MedVLM_R1_HD.sh",
   "id": "53caeb9be8fb5435",
   "outputs": [],
   "execution_count": null
  },
  {
   "metadata": {},
   "cell_type": "markdown",
   "source": "# medgemma_4b_it",
   "id": "e05cf217983e3d21"
  },
  {
   "metadata": {},
   "cell_type": "markdown",
   "source": "## SKINgpt dataset   /question-Close_end_QA",
   "id": "c29a195caa9612f3"
  },
  {
   "metadata": {},
   "cell_type": "code",
   "source": "!bash shell/medgemma_4b_it/SKINgpt/baseline/Close_end_QA/medgemma_4b_it_HD.sh",
   "id": "c32a2ec05097c15a",
   "outputs": [],
   "execution_count": null
  },
  {
   "metadata": {},
   "cell_type": "code",
   "source": "!bash shell/medgemma_4b_it/SKINgpt/SkinCAP-RAG/Close_end_QA/medgemma_4b_it_HD.sh",
   "id": "ca4542120f8f0f5c",
   "outputs": [],
   "execution_count": null
  },
  {
   "metadata": {},
   "cell_type": "code",
   "source": "!bash shell/medgemma_4b_it/SKINgpt/MMSkinQA-RAG/Close_end_QA/medgemma_4b_it_HD.sh",
   "id": "e2f3873c2fc4990a",
   "outputs": [],
   "execution_count": null
  },
  {
   "metadata": {},
   "cell_type": "code",
   "source": "!bash shell/medgemma_4b_it/SKINgpt/SkinCAPAndMMSkinQA-RAG/Close_end_QA/medgemma_4b_it_HD.sh",
   "id": "62feda42225af72d",
   "outputs": [],
   "execution_count": null
  },
  {
   "metadata": {},
   "cell_type": "markdown",
   "source": "# MedVLM_R1",
   "id": "82fdaa6d09b30efe"
  },
  {
   "metadata": {},
   "cell_type": "markdown",
   "source": "## SKINgpt dataset   /question-Close_end_QA",
   "id": "c2a3933ae2523451"
  },
  {
   "metadata": {},
   "cell_type": "code",
   "source": "!bash shell/MedVLM_R1/SKINgpt/baseline/Close_end_QA/MedVLM_R1_HD.sh",
   "id": "17f0af4b5617ed97",
   "outputs": [],
   "execution_count": null
  },
  {
   "metadata": {},
   "cell_type": "code",
   "source": "!bash shell/MedVLM_R1/SKINgpt/SkinCAP-RAG/Close_end_QA/MedVLM_R1_HD.sh",
   "id": "32e382539e095fab",
   "outputs": [],
   "execution_count": null
  },
  {
   "metadata": {},
   "cell_type": "code",
   "source": "!bash shell/MedVLM_R1/SKINgpt/MMSkinQA-RAG/Close_end_QA/MedVLM_R1_HD.sh",
   "id": "b7dc4bde6057165d",
   "outputs": [],
   "execution_count": null
  },
  {
   "metadata": {},
   "cell_type": "code",
   "source": "!bash shell/MedVLM_R1/SKINgpt/SkinCAPAndMMSkinQA-RAG/Close_end_QA/MedVLM_R1_HD.sh",
   "id": "5d1aa3c0b6c24eb6",
   "outputs": [],
   "execution_count": null
  }
 ],
 "metadata": {
  "kernelspec": {
   "display_name": "Python 3",
   "language": "python",
   "name": "python3"
  },
  "language_info": {
   "codemirror_mode": {
    "name": "ipython",
    "version": 2
   },
   "file_extension": ".py",
   "mimetype": "text/x-python",
   "name": "python",
   "nbconvert_exporter": "python",
   "pygments_lexer": "ipython2",
   "version": "2.7.6"
  }
 },
 "nbformat": 4,
 "nbformat_minor": 5
}
