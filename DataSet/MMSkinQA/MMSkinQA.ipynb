{
 "cells": [
  {
   "cell_type": "code",
   "id": "initial_id",
   "metadata": {
    "collapsed": true
   },
   "source": [
    "import pandas as pd\n",
    "import json\n",
    "import datetime\n",
    "import os\n",
    "\n",
    "input_path = '/home/william/dataset/skin/MM-SkinQA/VQA.csv'\n",
    "\n",
    "timestamp = datetime.datetime.now().strftime(\"%Y%m%d%H%M%S\")\n",
    "output_dir = '/home/william/dataset/skin/MM-SkinQA'\n",
    "output_path = os.path.join(output_dir, f\"MM-SkinQA_{timestamp}.json\")\n",
    "\n",
    "\n",
    "os.makedirs(output_dir, exist_ok=True)\n",
    "\n",
    "\n",
    "df = pd.read_csv(input_path)\n",
    "\n",
    "\n",
    "records = []\n",
    "for _, row in df.iterrows():\n",
    "    image_name = row['image'].replace('dataset/', '', 1)\n",
    "    records.append({\n",
    "        \"image_name\": image_name,\n",
    "        \"question\": row['question'],\n",
    "        \"answer\": row['answer'],\n",
    "        \"question_type\": \"open\"\n",
    "    })\n",
    "\n",
    "\n",
    "with open(output_path, 'w', encoding='utf-8') as f:\n",
    "    json.dump(records, f, ensure_ascii=False, indent=2)\n",
    "\n",
    "print(f\"save file：{output_path}\")\n"
   ],
   "outputs": [],
   "execution_count": null
  }
 ],
 "metadata": {
  "kernelspec": {
   "display_name": "Python 3",
   "language": "python",
   "name": "python3"
  },
  "language_info": {
   "codemirror_mode": {
    "name": "ipython",
    "version": 2
   },
   "file_extension": ".py",
   "mimetype": "text/x-python",
   "name": "python",
   "nbconvert_exporter": "python",
   "pygments_lexer": "ipython2",
   "version": "2.7.6"
  }
 },
 "nbformat": 4,
 "nbformat_minor": 5
}
